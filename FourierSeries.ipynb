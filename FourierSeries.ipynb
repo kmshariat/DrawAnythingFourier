{
 "cells": [
  {
   "cell_type": "markdown",
   "id": "1f626fc5-8c5f-4494-932e-bb858a759a05",
   "metadata": {},
   "source": [
    "<h1 align = 'center'>Understanding the Fourier Series</h1>\n",
    "<h5 align = 'center'> K M Shariat Ullah <br> Student, Department of Electrical and Electronic Engineering <br> Shahjalal University of Science and Technology </h5>"
   ]
  },
  {
   "cell_type": "markdown",
   "id": "ab60e038-4cdc-4595-a4b1-2c1f7c33aeac",
   "metadata": {},
   "source": [
    "Fourier series named after the French mathematician and physicist Joseph Fourier (1768-1830) is a technique to approximate/reconstruct any signal using combinations of sine waves and cosine waves and on the basis of superposition principle. For any periodic function $f(x)$ defined in interval $(-L, L)$ the Fourier series is calculated as - \n",
    "\n",
    "$$ f_{approx}(x) = \\frac{a_0}{2} + \\sum_{n=1}^{\\infty} \\left( a_n \\cos \\left( \\frac{n \\pi x}{L} \\right) + b_n \\sin \\left( \\frac{n \\pi x}{L} \\right) \\right) $$\n",
    "\n",
    "Where \n",
    "\n",
    "$$ a_n = \\frac{1}{L} \\int_{-L}^{L} f(x) \\cos \\left( \\frac{n \\pi x}{L} \\right) dx$$\n",
    "$$ b_n = \\frac{1}{L} \\int_{-L}^{L} f(x) \\sin \\left( \\frac{n \\pi x}{L} \\right)   $$"
   ]
  },
  {
   "cell_type": "code",
   "execution_count": 66,
   "id": "d7811d22-6046-400a-ba01-2a9df4fdd2a5",
   "metadata": {},
   "outputs": [],
   "source": [
    "import numpy as np\n",
    "import matplotlib.pyplot as plt\n",
    "import scipy.integrate as integrate\n",
    "from matplotlib.animation import FuncAnimation\n",
    "from svgpathtools import svg2paths"
   ]
  },
  {
   "cell_type": "code",
   "execution_count": 67,
   "id": "9bc4fae7-83f5-4717-97b5-7e21cb7e3a3f",
   "metadata": {},
   "outputs": [],
   "source": [
    "def f(t):\n",
    "    # this is a sine wave\n",
    "    t = ((t + np.pi) % (2 * np.pi)) - np.pi\n",
    "    return np.where(t < 0, -1, 1)"
   ]
  },
  {
   "cell_type": "code",
   "execution_count": 68,
   "id": "bd108afc-a35f-4d4c-8446-674bf23fcb07",
   "metadata": {},
   "outputs": [],
   "source": [
    "# domain\n",
    "L = np.pi\n",
    "N = 20  # Number of Fourier terms\n",
    "t_vals = np.linspace(-L, L, 1000)\n",
    "f_vals = f(t_vals)"
   ]
  },
  {
   "cell_type": "code",
   "execution_count": 69,
   "id": "3354342d-7ffb-4849-b03d-6cea6d14b8e6",
   "metadata": {},
   "outputs": [],
   "source": [
    "# Compute a_0\n",
    "a0, _ = integrate.quad(lambda t: f(t), -L, L)\n",
    "a0 = a0 / L"
   ]
  },
  {
   "cell_type": "code",
   "execution_count": 70,
   "id": "784f5146-33f8-4758-92df-c93a39174adf",
   "metadata": {},
   "outputs": [],
   "source": [
    "# Compute a_n and b_n\n",
    "a_n = []\n",
    "b_n = []"
   ]
  },
  {
   "cell_type": "code",
   "execution_count": 71,
   "id": "55268389-bc19-4858-80aa-6a8b189e2159",
   "metadata": {},
   "outputs": [],
   "source": [
    "for n in range(1, N + 1):\n",
    "    an, _ = integrate.quad(lambda t: f(t) * np.cos(n * np.pi * t / L), -L, L)\n",
    "    bn, _ = integrate.quad(lambda t: f(t) * np.sin(n * np.pi * t / L), -L, L)\n",
    "    a_n.append(an / L)\n",
    "    b_n.append(bn / L)"
   ]
  },
  {
   "cell_type": "code",
   "execution_count": 72,
   "id": "4a90f446-2366-438a-b5f8-05483020e0f9",
   "metadata": {},
   "outputs": [
    {
     "data": {
      "text/plain": [
       "<matplotlib.legend.Legend at 0x7acb9efbd390>"
      ]
     },
     "execution_count": 72,
     "metadata": {},
     "output_type": "execute_result"
    },
    {
     "data": {
      "image/png": "[encoded data removed]",
      "text/plain": [
       "<Figure size 1000x500 with 1 Axes>"
      ]
     },
     "metadata": {},
     "output_type": "display_data"
    }
   ],
   "source": [
    "# Setup the plot\n",
    "fig, ax = plt.subplots(figsize=(10, 5))\n",
    "ax.set_xlim(-L, L)\n",
    "ax.set_ylim(-1.5, 1.5)\n",
    "ax.set_title(\"Fourier Series\")\n",
    "ax.grid(True)\n",
    "\n",
    "line_actual, = ax.plot(t_vals, f_vals, color='black', label='Original Signal', linewidth=2)\n",
    "line_approx, = ax.plot([], [], color='blue', label='Fourier Approximation')\n",
    "text_n = ax.text(0.02, 1.3, '', transform=ax.transAxes)\n",
    "ax.legend()"
   ]
  },
  {
   "cell_type": "code",
   "execution_count": 73,
   "id": "0024898c-8fa7-4693-8876-79bc941e1b0b",
   "metadata": {},
   "outputs": [],
   "source": [
    "# Initialization\n",
    "def init():\n",
    "    line_approx.set_data([], [])\n",
    "    text_n.set_text('')\n",
    "    return line_approx, text_n\n",
    "\n",
    "# Animation update function\n",
    "def update(n):\n",
    "    y = np.full_like(t_vals, a0 / 2)\n",
    "    for k in range(1, n + 1):\n",
    "        y += a_n[k - 1] * np.cos(k * np.pi * t_vals / L)\n",
    "        y += b_n[k - 1] * np.sin(k * np.pi * t_vals / L)\n",
    "    line_approx.set_data(t_vals, y)\n",
    "    text_n.set_text(f\"Terms: {n}\")\n",
    "    return line_approx, text_n\n",
    "\n",
    "# Create animation\n",
    "anim = FuncAnimation(fig, update, frames=range(1, N + 1), init_func=init,\n",
    "                     blit=True, interval=300, repeat=True)\n",
    "anim.save('FourierSquare.gif')\n",
    "plt.show()\n"
   ]
  },
  {
   "cell_type": "markdown",
   "id": "eea75eab-9cc7-4d93-9572-b8b8c8e81e6e",
   "metadata": {},
   "source": [
    "The Fourier series is more convenient to write using imaginary numbers. If $f(x)$ is the function that we are trying to reconstruct then the Complex Fouries Series is -\n",
    "\n",
    "$$ f_{approx}(x) = \\sum_{n= -\\infty}^{\\infty}  c_n e^{i n \\pi x/L} $$\n",
    "\n",
    "Where $i = \\sqrt{-1} $ and $$c_n = \\frac{1}{2L} \\int_{-L}^{L} f(x) e^{- i n \\pi x /L}$$"
   ]
  },
  {
   "cell_type": "code",
   "execution_count": 74,
   "id": "a98694be-5288-4fc0-8652-2edfb997f1f3",
   "metadata": {},
   "outputs": [],
   "source": [
    "# Compute c_n\n",
    "def compute_cn(func, L, n):\n",
    "    integrand = lambda x: f(x) * np.exp(-1j * n * np.pi * x / L)\n",
    "    real_part, _ = integrate.quad(lambda x: integrand(x).real, -L, L)\n",
    "    imag_part, _ = integrate.quad(lambda x: integrand(x).imag, -L, L)\n",
    "    return (real_part + 1j * imag_part) / (2 * L)"
   ]
  },
  {
   "cell_type": "code",
   "execution_count": 75,
   "id": "eb418f1a-88f9-4c13-9dcc-547801f41432",
   "metadata": {},
   "outputs": [],
   "source": [
    "# setup\n",
    "L = np.pi\n",
    "N = 25  # Max number of terms\n",
    "x_vals = np.linspace(-L, L, 1000)\n",
    "f_true = f(x_vals)\n",
    "\n",
    "c_n_list = [compute_cn(f, L, n) for n in range(-N, N + 1)]\n",
    "n_vals = np.arange(-N, N + 1)"
   ]
  },
  {
   "cell_type": "code",
   "execution_count": 76,
   "id": "0204ee22-6e7c-43de-9b32-429f9fa96760",
   "metadata": {},
   "outputs": [
    {
     "data": {
      "text/plain": [
       "<matplotlib.legend.Legend at 0x7acb9cd1ba90>"
      ]
     },
     "execution_count": 76,
     "metadata": {},
     "output_type": "execute_result"
    },
    {
     "data": {
      "image/png": "[encoded data removed]",
      "text/plain": [
       "<Figure size 1000x500 with 1 Axes>"
      ]
     },
     "metadata": {},
     "output_type": "display_data"
    }
   ],
   "source": [
    "# initialization of the plot\n",
    "fig, ax = plt.subplots(figsize=(10, 5))\n",
    "ax.set_xlim(-L, L)\n",
    "ax.set_ylim(-1.5, 1.5)\n",
    "ax.set_title(\"Complex Fourier Series\")\n",
    "ax.grid(True)\n",
    "\n",
    "line_actual, = ax.plot(x_vals, f_true, color='black', label='Original Signal', linewidth=2)\n",
    "line_approx, = ax.plot([], [], color='blue', label='Fourier Approximation')\n",
    "text_n = ax.text(0.02, 1.3, '', transform=ax.transAxes)\n",
    "ax.legend()"
   ]
  },
  {
   "cell_type": "code",
   "execution_count": 77,
   "id": "68826a6b-a03d-45fd-916b-4d946b9c3b43",
   "metadata": {},
   "outputs": [],
   "source": [
    "# animation initialization\n",
    "def init():\n",
    "    line_approx.set_data([], [])\n",
    "    text_n.set_text('')\n",
    "    return line_approx, text_n\n",
    "    \n",
    "# frames update\n",
    "def update(frame):\n",
    "    f_approx = np.zeros_like(t_vals, dtype=np.complex128)\n",
    "    for i in range(-frame, frame + 1):\n",
    "        idx = i + N\n",
    "        f_approx += c_n_list[idx] * np.exp(1j * i * np.pi * t_vals / L)\n",
    "    line_approx.set_data(t_vals, f_approx.real)\n",
    "    text_n.set_text(f\"Terms: {2*frame + 1}\")\n",
    "    return line_approx, text_n\n",
    "\n",
    "anim = FuncAnimation(fig, update, frames=range(1, N + 1), init_func=init,\n",
    "                     blit=True, interval=300, repeat=True)\n",
    "anim.save('FourierSeriesComplex.gif')\n",
    "plt.show()"
   ]
  },
  {
   "cell_type": "markdown",
   "id": "46aaa924-0c80-4589-aa7d-06ac9f6b152f",
   "metadata": {},
   "source": [
    "<h3>Drawing Anything From SVG</h3>"
   ]
  },
  {
   "cell_type": "code",
   "execution_count": 78,
   "id": "8930c2bf-f52b-4b28-8bcd-fefc93bb6ff9",
   "metadata": {},
   "outputs": [],
   "source": [
    "def extract_points_from_svg(filename, num_points=500):\n",
    "    \n",
    "    paths, _ = svg2paths(filename)\n",
    "    all_points = []\n",
    "\n",
    "    for path in paths:\n",
    "        for seg in path:\n",
    "            for t in np.linspace(0, 1, num_points // len(path), endpoint=False):\n",
    "                point = seg.point(t)\n",
    "                all_points.append(point)\n",
    "\n",
    "    points = np.array(all_points)\n",
    "    points -= np.mean(points)  # center\n",
    "    scale = np.max(np.abs(points))\n",
    "    points /= scale  # scale to fit\n",
    "\n",
    "    # flip \n",
    "    points = points.real - 1j * points.imag\n",
    "\n",
    "    return points\n"
   ]
  },
  {
   "cell_type": "code",
   "execution_count": 79,
   "id": "691bbba4-5633-4a9e-8136-977cb905990a",
   "metadata": {},
   "outputs": [],
   "source": [
    "# points from SVG\n",
    "z = extract_points_from_svg(\"SUST.svg\", num_points=1000)\n",
    "\n",
    "# DFT\n",
    "Z = np.fft.fft(z) / len(z)\n",
    "freqs = np.fft.fftfreq(len(z), d=1/len(z))\n",
    "\n",
    "indices = np.argsort(-np.abs(Z))\n",
    "Z = Z[indices]\n",
    "freqs = freqs[indices]"
   ]
  },
  {
   "cell_type": "code",
   "execution_count": 80,
   "id": "340cc2dd-e14a-4744-b02c-cc72ce29d3f9",
   "metadata": {
    "scrolled": true
   },
   "outputs": [
    {
     "data": {
      "image/png": "[encoded data removed]",
      "text/plain": [
       "<Figure size 600x600 with 1 Axes>"
      ]
     },
     "metadata": {},
     "output_type": "display_data"
    }
   ],
   "source": [
    "# Plot real vs imaginary parts\n",
    "plt.figure(figsize=(6, 6))\n",
    "plt.plot(z.real, z.imag, 'r-', markersize=1)\n",
    "plt.gca().set_aspect('equal')\n",
    "plt.title(\"Extracted Points from SVG\")\n",
    "plt.axis('off')\n",
    "plt.show()"
   ]
  },
  {
   "cell_type": "code",
   "execution_count": 81,
   "id": "450e74df-9ea8-4be4-9a72-cef0293d24e2",
   "metadata": {},
   "outputs": [
    {
     "data": {
      "image/png": "[encoded data removed]",
      "text/plain": [
       "<Figure size 600x600 with 1 Axes>"
      ]
     },
     "metadata": {},
     "output_type": "display_data"
    }
   ],
   "source": [
    "# animation\n",
    "fig, ax = plt.subplots(figsize=(6, 6))\n",
    "ax.set_aspect('equal')\n",
    "ax.set_xlim(-1.5, 1.5)\n",
    "ax.set_ylim(-1.5, 1.5)\n",
    "ax.axis('off')\n",
    "line, = ax.plot([], [], 'gray', lw=1)\n",
    "trail, = ax.plot([], [], 'r', lw=2)\n",
    "point = ax.plot([], [], 'ro')[0]\n",
    "path_points = []\n",
    "\n",
    "def init():\n",
    "    line.set_data([], [])\n",
    "    trail.set_data([], [])\n",
    "    point.set_data([], [])\n",
    "    return line, trail, point\n",
    "\n",
    "def update(frame):\n",
    "    t = frame / len(z)\n",
    "    x, y = 0, 0\n",
    "    positions = [(x, y)]\n",
    "\n",
    "    for k in range(30):  # Use top 30 epicycles \n",
    "        freq = freqs[k]\n",
    "        coeff = Z[k]\n",
    "        prev_x, prev_y = x, y\n",
    "        x += np.real(coeff * np.exp(2j * np.pi * freq * t))\n",
    "        y += np.imag(coeff * np.exp(2j * np.pi * freq * t))\n",
    "        positions.append((x, y))\n",
    "\n",
    "    xs, ys = zip(*positions)\n",
    "    line.set_data(xs, ys)\n",
    "    path_points.append((x, y))\n",
    "    trail.set_data(*zip(*path_points))\n",
    "    point.set_data([x], [y])\n",
    "    return line, trail, point\n",
    "\n",
    "frames_to_use = np.arange(0, len(z), 2)  # every 2nd frame\n",
    "\n",
    "anim = FuncAnimation(fig, update, frames=frames_to_use, init_func=init,\n",
    "                     blit=True, interval=20, repeat=True)\n",
    "\n",
    "plt.show()\n"
   ]
  },
  {
   "cell_type": "code",
   "execution_count": 82,
   "id": "ae47a9b4-dc67-4438-aeb5-c1c6088ceaea",
   "metadata": {},
   "outputs": [],
   "source": [
    "anim.save('sust.gif')"
   ]
  }
 ],
 "metadata": {
  "kernelspec": {
   "display_name": "Python 3 (ipykernel)",
   "language": "python",
   "name": "python3"
  },
  "language_info": {
   "codemirror_mode": {
    "name": "ipython",
    "version": 3
   },
   "file_extension": ".py",
   "mimetype": "text/x-python",
   "name": "python",
   "nbconvert_exporter": "python",
   "pygments_lexer": "ipython3",
   "version": "3.10.12"
  }
 },
 "nbformat": 4,
 "nbformat_minor": 5
}
